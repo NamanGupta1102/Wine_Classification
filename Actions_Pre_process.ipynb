{
 "cells": [
  {
   "cell_type": "code",
   "execution_count": 2,
   "id": "2969264e",
   "metadata": {},
   "outputs": [],
   "source": [
    "import pandas as pd \n",
    "import numpy as np \n",
    "from matplotlib import pyplot as plt"
   ]
  },
  {
   "cell_type": "code",
   "execution_count": 14,
   "id": "9ae8e4aa",
   "metadata": {},
   "outputs": [
    {
     "data": {
      "text/html": [
       "<div>\n",
       "<style scoped>\n",
       "    .dataframe tbody tr th:only-of-type {\n",
       "        vertical-align: middle;\n",
       "    }\n",
       "\n",
       "    .dataframe tbody tr th {\n",
       "        vertical-align: top;\n",
       "    }\n",
       "\n",
       "    .dataframe thead th {\n",
       "        text-align: right;\n",
       "    }\n",
       "</style>\n",
       "<table border=\"1\" class=\"dataframe\">\n",
       "  <thead>\n",
       "    <tr style=\"text-align: right;\">\n",
       "      <th></th>\n",
       "      <th>Unnamed: 0</th>\n",
       "      <th>user_name</th>\n",
       "      <th>country</th>\n",
       "      <th>review_title</th>\n",
       "      <th>review_description</th>\n",
       "      <th>designation</th>\n",
       "      <th>points</th>\n",
       "      <th>price</th>\n",
       "      <th>province</th>\n",
       "      <th>region_1</th>\n",
       "      <th>region_2</th>\n",
       "      <th>winery</th>\n",
       "      <th>review_sentiment</th>\n",
       "      <th>variety</th>\n",
       "    </tr>\n",
       "  </thead>\n",
       "  <tbody>\n",
       "    <tr>\n",
       "      <th>0</th>\n",
       "      <td>0</td>\n",
       "      <td>@kerinokeefe</td>\n",
       "      <td>Italy</td>\n",
       "      <td>Nicosia 2013 Vulkà Bianco  (Etna)</td>\n",
       "      <td>Aromas include tropical fruit, broom, brimston...</td>\n",
       "      <td>Vulkà Bianco</td>\n",
       "      <td>87</td>\n",
       "      <td>36.781224</td>\n",
       "      <td>Sicily &amp; Sardinia</td>\n",
       "      <td>Etna</td>\n",
       "      <td>NaN</td>\n",
       "      <td>Nicosia</td>\n",
       "      <td>0.13</td>\n",
       "      <td>White Blend</td>\n",
       "    </tr>\n",
       "    <tr>\n",
       "      <th>1</th>\n",
       "      <td>1</td>\n",
       "      <td>@vossroger</td>\n",
       "      <td>Portugal</td>\n",
       "      <td>Quinta dos Avidagos 2011 Avidagos Red (Douro)</td>\n",
       "      <td>This is ripe and fruity, a wine that is smooth...</td>\n",
       "      <td>Avidagos</td>\n",
       "      <td>87</td>\n",
       "      <td>15.000000</td>\n",
       "      <td>Douro</td>\n",
       "      <td>NaN</td>\n",
       "      <td>NaN</td>\n",
       "      <td>Quinta dos Avidagos</td>\n",
       "      <td>0.22</td>\n",
       "      <td>Portuguese Red</td>\n",
       "    </tr>\n",
       "    <tr>\n",
       "      <th>2</th>\n",
       "      <td>2</td>\n",
       "      <td>@paulgwine</td>\n",
       "      <td>US</td>\n",
       "      <td>Rainstorm 2013 Pinot Gris (Willamette Valley)</td>\n",
       "      <td>Tart and snappy, the flavors of lime flesh and...</td>\n",
       "      <td>NaN</td>\n",
       "      <td>87</td>\n",
       "      <td>14.000000</td>\n",
       "      <td>Oregon</td>\n",
       "      <td>Willamette Valley</td>\n",
       "      <td>Willamette Valley</td>\n",
       "      <td>Rainstorm</td>\n",
       "      <td>0.02</td>\n",
       "      <td>Pinot Gris</td>\n",
       "    </tr>\n",
       "    <tr>\n",
       "      <th>3</th>\n",
       "      <td>3</td>\n",
       "      <td>NaN</td>\n",
       "      <td>US</td>\n",
       "      <td>St. Julian 2013 Reserve Late Harvest Riesling ...</td>\n",
       "      <td>Pineapple rind, lemon pith and orange blossom ...</td>\n",
       "      <td>Reserve Late Harvest</td>\n",
       "      <td>87</td>\n",
       "      <td>13.000000</td>\n",
       "      <td>Michigan</td>\n",
       "      <td>Lake Michigan Shore</td>\n",
       "      <td>NaN</td>\n",
       "      <td>St. Julian</td>\n",
       "      <td>0.17</td>\n",
       "      <td>Riesling</td>\n",
       "    </tr>\n",
       "    <tr>\n",
       "      <th>4</th>\n",
       "      <td>4</td>\n",
       "      <td>@paulgwine</td>\n",
       "      <td>US</td>\n",
       "      <td>Sweet Cheeks 2012 Vintner's Reserve Wild Child...</td>\n",
       "      <td>Much like the regular bottling from 2012, this...</td>\n",
       "      <td>Vintner's Reserve Wild Child Block</td>\n",
       "      <td>87</td>\n",
       "      <td>65.000000</td>\n",
       "      <td>Oregon</td>\n",
       "      <td>Willamette Valley</td>\n",
       "      <td>Willamette Valley</td>\n",
       "      <td>Sweet Cheeks</td>\n",
       "      <td>0.31</td>\n",
       "      <td>Pinot Noir</td>\n",
       "    </tr>\n",
       "  </tbody>\n",
       "</table>\n",
       "</div>"
      ],
      "text/plain": [
       "   Unnamed: 0     user_name   country  \\\n",
       "0           0  @kerinokeefe     Italy   \n",
       "1           1    @vossroger  Portugal   \n",
       "2           2   @paulgwine         US   \n",
       "3           3           NaN        US   \n",
       "4           4   @paulgwine         US   \n",
       "\n",
       "                                        review_title  \\\n",
       "0                  Nicosia 2013 Vulkà Bianco  (Etna)   \n",
       "1      Quinta dos Avidagos 2011 Avidagos Red (Douro)   \n",
       "2      Rainstorm 2013 Pinot Gris (Willamette Valley)   \n",
       "3  St. Julian 2013 Reserve Late Harvest Riesling ...   \n",
       "4  Sweet Cheeks 2012 Vintner's Reserve Wild Child...   \n",
       "\n",
       "                                  review_description  \\\n",
       "0  Aromas include tropical fruit, broom, brimston...   \n",
       "1  This is ripe and fruity, a wine that is smooth...   \n",
       "2  Tart and snappy, the flavors of lime flesh and...   \n",
       "3  Pineapple rind, lemon pith and orange blossom ...   \n",
       "4  Much like the regular bottling from 2012, this...   \n",
       "\n",
       "                          designation  points      price           province  \\\n",
       "0                        Vulkà Bianco      87  36.781224  Sicily & Sardinia   \n",
       "1                            Avidagos      87  15.000000              Douro   \n",
       "2                                 NaN      87  14.000000             Oregon   \n",
       "3                Reserve Late Harvest      87  13.000000           Michigan   \n",
       "4  Vintner's Reserve Wild Child Block      87  65.000000             Oregon   \n",
       "\n",
       "              region_1           region_2               winery  \\\n",
       "0                 Etna                NaN              Nicosia   \n",
       "1                  NaN                NaN  Quinta dos Avidagos   \n",
       "2    Willamette Valley  Willamette Valley            Rainstorm   \n",
       "3  Lake Michigan Shore                NaN           St. Julian   \n",
       "4    Willamette Valley  Willamette Valley         Sweet Cheeks   \n",
       "\n",
       "   review_sentiment         variety  \n",
       "0              0.13     White Blend  \n",
       "1              0.22  Portuguese Red  \n",
       "2              0.02      Pinot Gris  \n",
       "3              0.17        Riesling  \n",
       "4              0.31      Pinot Noir  "
      ]
     },
     "execution_count": 14,
     "metadata": {},
     "output_type": "execute_result"
    }
   ],
   "source": [
    "df = pd.read_csv('new_data.csv')\n",
    "df.head()"
   ]
  },
  {
   "cell_type": "code",
   "execution_count": 15,
   "id": "c990c462",
   "metadata": {},
   "outputs": [],
   "source": [
    "df = df.drop(['Unnamed: 0','user_name'],axis=1)"
   ]
  },
  {
   "cell_type": "code",
   "execution_count": 16,
   "id": "e83e2cad",
   "metadata": {},
   "outputs": [
    {
     "data": {
      "text/html": [
       "<div>\n",
       "<style scoped>\n",
       "    .dataframe tbody tr th:only-of-type {\n",
       "        vertical-align: middle;\n",
       "    }\n",
       "\n",
       "    .dataframe tbody tr th {\n",
       "        vertical-align: top;\n",
       "    }\n",
       "\n",
       "    .dataframe thead th {\n",
       "        text-align: right;\n",
       "    }\n",
       "</style>\n",
       "<table border=\"1\" class=\"dataframe\">\n",
       "  <thead>\n",
       "    <tr style=\"text-align: right;\">\n",
       "      <th></th>\n",
       "      <th>country</th>\n",
       "      <th>review_title</th>\n",
       "      <th>review_description</th>\n",
       "      <th>designation</th>\n",
       "      <th>points</th>\n",
       "      <th>price</th>\n",
       "      <th>province</th>\n",
       "      <th>region_1</th>\n",
       "      <th>region_2</th>\n",
       "      <th>winery</th>\n",
       "      <th>review_sentiment</th>\n",
       "      <th>variety</th>\n",
       "    </tr>\n",
       "  </thead>\n",
       "  <tbody>\n",
       "    <tr>\n",
       "      <th>0</th>\n",
       "      <td>Italy</td>\n",
       "      <td>Nicosia 2013 Vulkà Bianco  (Etna)</td>\n",
       "      <td>Aromas include tropical fruit, broom, brimston...</td>\n",
       "      <td>Vulkà Bianco</td>\n",
       "      <td>87</td>\n",
       "      <td>36.781224</td>\n",
       "      <td>Sicily &amp; Sardinia</td>\n",
       "      <td>Etna</td>\n",
       "      <td>NaN</td>\n",
       "      <td>Nicosia</td>\n",
       "      <td>0.13</td>\n",
       "      <td>White Blend</td>\n",
       "    </tr>\n",
       "    <tr>\n",
       "      <th>1</th>\n",
       "      <td>Portugal</td>\n",
       "      <td>Quinta dos Avidagos 2011 Avidagos Red (Douro)</td>\n",
       "      <td>This is ripe and fruity, a wine that is smooth...</td>\n",
       "      <td>Avidagos</td>\n",
       "      <td>87</td>\n",
       "      <td>15.000000</td>\n",
       "      <td>Douro</td>\n",
       "      <td>NaN</td>\n",
       "      <td>NaN</td>\n",
       "      <td>Quinta dos Avidagos</td>\n",
       "      <td>0.22</td>\n",
       "      <td>Portuguese Red</td>\n",
       "    </tr>\n",
       "    <tr>\n",
       "      <th>2</th>\n",
       "      <td>US</td>\n",
       "      <td>Rainstorm 2013 Pinot Gris (Willamette Valley)</td>\n",
       "      <td>Tart and snappy, the flavors of lime flesh and...</td>\n",
       "      <td>NaN</td>\n",
       "      <td>87</td>\n",
       "      <td>14.000000</td>\n",
       "      <td>Oregon</td>\n",
       "      <td>Willamette Valley</td>\n",
       "      <td>Willamette Valley</td>\n",
       "      <td>Rainstorm</td>\n",
       "      <td>0.02</td>\n",
       "      <td>Pinot Gris</td>\n",
       "    </tr>\n",
       "    <tr>\n",
       "      <th>3</th>\n",
       "      <td>US</td>\n",
       "      <td>St. Julian 2013 Reserve Late Harvest Riesling ...</td>\n",
       "      <td>Pineapple rind, lemon pith and orange blossom ...</td>\n",
       "      <td>Reserve Late Harvest</td>\n",
       "      <td>87</td>\n",
       "      <td>13.000000</td>\n",
       "      <td>Michigan</td>\n",
       "      <td>Lake Michigan Shore</td>\n",
       "      <td>NaN</td>\n",
       "      <td>St. Julian</td>\n",
       "      <td>0.17</td>\n",
       "      <td>Riesling</td>\n",
       "    </tr>\n",
       "    <tr>\n",
       "      <th>4</th>\n",
       "      <td>US</td>\n",
       "      <td>Sweet Cheeks 2012 Vintner's Reserve Wild Child...</td>\n",
       "      <td>Much like the regular bottling from 2012, this...</td>\n",
       "      <td>Vintner's Reserve Wild Child Block</td>\n",
       "      <td>87</td>\n",
       "      <td>65.000000</td>\n",
       "      <td>Oregon</td>\n",
       "      <td>Willamette Valley</td>\n",
       "      <td>Willamette Valley</td>\n",
       "      <td>Sweet Cheeks</td>\n",
       "      <td>0.31</td>\n",
       "      <td>Pinot Noir</td>\n",
       "    </tr>\n",
       "  </tbody>\n",
       "</table>\n",
       "</div>"
      ],
      "text/plain": [
       "    country                                       review_title  \\\n",
       "0     Italy                  Nicosia 2013 Vulkà Bianco  (Etna)   \n",
       "1  Portugal      Quinta dos Avidagos 2011 Avidagos Red (Douro)   \n",
       "2        US      Rainstorm 2013 Pinot Gris (Willamette Valley)   \n",
       "3        US  St. Julian 2013 Reserve Late Harvest Riesling ...   \n",
       "4        US  Sweet Cheeks 2012 Vintner's Reserve Wild Child...   \n",
       "\n",
       "                                  review_description  \\\n",
       "0  Aromas include tropical fruit, broom, brimston...   \n",
       "1  This is ripe and fruity, a wine that is smooth...   \n",
       "2  Tart and snappy, the flavors of lime flesh and...   \n",
       "3  Pineapple rind, lemon pith and orange blossom ...   \n",
       "4  Much like the regular bottling from 2012, this...   \n",
       "\n",
       "                          designation  points      price           province  \\\n",
       "0                        Vulkà Bianco      87  36.781224  Sicily & Sardinia   \n",
       "1                            Avidagos      87  15.000000              Douro   \n",
       "2                                 NaN      87  14.000000             Oregon   \n",
       "3                Reserve Late Harvest      87  13.000000           Michigan   \n",
       "4  Vintner's Reserve Wild Child Block      87  65.000000             Oregon   \n",
       "\n",
       "              region_1           region_2               winery  \\\n",
       "0                 Etna                NaN              Nicosia   \n",
       "1                  NaN                NaN  Quinta dos Avidagos   \n",
       "2    Willamette Valley  Willamette Valley            Rainstorm   \n",
       "3  Lake Michigan Shore                NaN           St. Julian   \n",
       "4    Willamette Valley  Willamette Valley         Sweet Cheeks   \n",
       "\n",
       "   review_sentiment         variety  \n",
       "0              0.13     White Blend  \n",
       "1              0.22  Portuguese Red  \n",
       "2              0.02      Pinot Gris  \n",
       "3              0.17        Riesling  \n",
       "4              0.31      Pinot Noir  "
      ]
     },
     "execution_count": 16,
     "metadata": {},
     "output_type": "execute_result"
    }
   ],
   "source": [
    "df.head() "
   ]
  },
  {
   "cell_type": "code",
   "execution_count": 17,
   "id": "54fd1637",
   "metadata": {},
   "outputs": [
    {
     "name": "stdout",
     "output_type": "stream",
     "text": [
      "Most frequent variety:\n",
      "Pinot Noir                  13272\n",
      "Chardonnay                  11753\n",
      "Cabernet Sauvignon           9472\n",
      "Red Blend                    8946\n",
      "Bordeaux-style Red Blend     6915\n",
      "Name: variety, dtype: int64\n"
     ]
    }
   ],
   "source": [
    "top_varieties = df['variety'].value_counts().head(5)\n",
    "print(\"Most frequent variety:\")\n",
    "print(top_varieties)"
   ]
  },
  {
   "cell_type": "markdown",
   "id": "0d4389f4",
   "metadata": {},
   "source": [
    "### Action1 :  Concenterate on the above wines more"
   ]
  },
  {
   "cell_type": "code",
   "execution_count": 20,
   "id": "a894b262",
   "metadata": {},
   "outputs": [
    {
     "name": "stdout",
     "output_type": "stream",
     "text": [
      "least frequent variety:\n",
      "Portuguese White              1159\n",
      "Bordeaux-style White Blend    1066\n",
      "Pinot Grigio                  1052\n",
      "Gamay                         1025\n",
      "Gewürztraminer                1012\n",
      "Name: variety, dtype: int64\n"
     ]
    }
   ],
   "source": [
    "least_varieties = df['variety'].value_counts()[-5:]\n",
    "print(\"least frequent variety:\")\n",
    "print(least_varieties)"
   ]
  },
  {
   "cell_type": "markdown",
   "id": "5627cd51",
   "metadata": {},
   "source": [
    "### Action2:  Either remove these or find ways to improve them"
   ]
  },
  {
   "cell_type": "code",
   "execution_count": 23,
   "id": "2cea759c",
   "metadata": {},
   "outputs": [
    {
     "name": "stdout",
     "output_type": "stream",
     "text": [
      "Most market:\n",
      "US          48153\n",
      "France      19932\n",
      "Italy       11370\n",
      "Portugal     4038\n",
      "Chile        3630\n",
      "Name: country, dtype: int64\n",
      "Least market:\n",
      "Czech Republic    5\n",
      "Switzerland       5\n",
      "India             2\n",
      "Slovakia          1\n",
      "Armenia           1\n",
      "Name: country, dtype: int64\n"
     ]
    }
   ],
   "source": [
    "top_varieties = df['country'].value_counts()\n",
    "print(\"Most market:\")\n",
    "print(top_varieties[:5])\n",
    "print(\"Least market:\")\n",
    "print(top_varieties[-5:])"
   ]
  },
  {
   "cell_type": "markdown",
   "id": "a6d17b03",
   "metadata": {},
   "source": [
    "### Action3: Concentrate distributions to \"Most Market Countries\", and reduce stock sent to \"Least Market\" Countries."
   ]
  },
  {
   "cell_type": "code",
   "execution_count": 31,
   "id": "61bebf19",
   "metadata": {},
   "outputs": [
    {
     "data": {
      "text/plain": [
       "<matplotlib.collections.PathCollection at 0x1c84e1147f0>"
      ]
     },
     "execution_count": 31,
     "metadata": {},
     "output_type": "execute_result"
    },
    {
     "data": {
      "image/png": "[encoded data removed]",
      "text/plain": [
       "<Figure size 432x288 with 1 Axes>"
      ]
     },
     "metadata": {
      "needs_background": "light"
     },
     "output_type": "display_data"
    }
   ],
   "source": [
    "plt.scatter(df['points'],df['price'])"
   ]
  },
  {
   "cell_type": "markdown",
   "id": "bcf703b0",
   "metadata": {},
   "source": [
    "### Action4: As seen the data is negatively skewed ( which is what makes sense), hence the general trend is the better the price is, the better the ratings are. Hence the company should strive for better ratings.\n"
   ]
  },
  {
   "cell_type": "code",
   "execution_count": 39,
   "id": "c2f8d324",
   "metadata": {},
   "outputs": [
    {
     "name": "stdout",
     "output_type": "stream",
     "text": [
      "Best Winery\n",
      "winery\n",
      "Araujo        98.0\n",
      "Gandona       97.0\n",
      "J.L. Chave    97.0\n",
      "Ovid          97.0\n",
      "Salon         96.8\n",
      "Name: points, dtype: float64\n",
      "Worse Winery\n",
      "winery\n",
      "Campo Marin              80.0\n",
      "Hermes                   80.0\n",
      "Reyter                   80.0\n",
      "Highland Hills Winery    80.0\n",
      "Flock by Smoking Loon    80.0\n",
      "Name: points, dtype: float64\n"
     ]
    }
   ],
   "source": [
    "winery_ratings = df.groupby('winery')['points'].mean()\n",
    "top_wineries = winery_ratings.sort_values(ascending=False).head(5)\n",
    "bottom_wineries = winery_ratings.sort_values(ascending=True).head(5)\n",
    "print('Best Winery')\n",
    "print(top_wineries)\n",
    "\n",
    "print('Worse Winery')\n",
    "print(bottom_wineries)\n",
    "\n"
   ]
  },
  {
   "cell_type": "code",
   "execution_count": 35,
   "id": "5c80225a",
   "metadata": {},
   "outputs": [
    {
     "name": "stdout",
     "output_type": "stream",
     "text": [
      "Best wines\n",
      "variety\n",
      "Portuguese White              0.275116\n",
      "Bordeaux-style White Blend    0.246764\n",
      "Gewürztraminer                0.239575\n",
      "Champagne Blend               0.230043\n",
      "Pinot Gris                    0.213780\n",
      "Name: review_sentiment, dtype: float64\n",
      "Worse wines\n",
      "variety\n",
      "Nebbiolo       0.087646\n",
      "Sangiovese     0.090222\n",
      "Tempranillo    0.098569\n",
      "Red Blend      0.102686\n",
      "Malbec         0.103578\n",
      "Name: review_sentiment, dtype: float64\n"
     ]
    }
   ],
   "source": [
    "winery_ratings_sent = df.groupby('variety')['review_sentiment'].mean()\n",
    "top_wineries_sent = winery_ratings_sent.sort_values(ascending=False).head(5)\n",
    "bottom_wineries_sent = winery_ratings_sent.sort_values(ascending=True).head(5)\n",
    "print('Best wines')\n",
    "print(top_wineries_sent)\n",
    "\n",
    "print('Worse wines')\n",
    "print(bottom_wineries_sent)"
   ]
  },
  {
   "cell_type": "markdown",
   "id": "f75aa088",
   "metadata": {},
   "source": [
    "### Action5: Based on the reviews and sentiment, get rid of negatively reveiewed wines, and instead focus on increasing sales of the highly reviewed ones. Even the wineries most negatively reviwed/points should be revamped."
   ]
  },
  {
   "cell_type": "markdown",
   "id": "b348e1d5",
   "metadata": {},
   "source": [
    "# preprocessing"
   ]
  },
  {
   "cell_type": "code",
   "execution_count": 36,
   "id": "2e6acf09",
   "metadata": {},
   "outputs": [
    {
     "data": {
      "text/html": [
       "<div>\n",
       "<style scoped>\n",
       "    .dataframe tbody tr th:only-of-type {\n",
       "        vertical-align: middle;\n",
       "    }\n",
       "\n",
       "    .dataframe tbody tr th {\n",
       "        vertical-align: top;\n",
       "    }\n",
       "\n",
       "    .dataframe thead th {\n",
       "        text-align: right;\n",
       "    }\n",
       "</style>\n",
       "<table border=\"1\" class=\"dataframe\">\n",
       "  <thead>\n",
       "    <tr style=\"text-align: right;\">\n",
       "      <th></th>\n",
       "      <th>country</th>\n",
       "      <th>review_title</th>\n",
       "      <th>review_description</th>\n",
       "      <th>designation</th>\n",
       "      <th>points</th>\n",
       "      <th>price</th>\n",
       "      <th>province</th>\n",
       "      <th>region_1</th>\n",
       "      <th>region_2</th>\n",
       "      <th>winery</th>\n",
       "      <th>review_sentiment</th>\n",
       "      <th>variety</th>\n",
       "    </tr>\n",
       "  </thead>\n",
       "  <tbody>\n",
       "    <tr>\n",
       "      <th>0</th>\n",
       "      <td>Italy</td>\n",
       "      <td>Nicosia 2013 Vulkà Bianco  (Etna)</td>\n",
       "      <td>Aromas include tropical fruit, broom, brimston...</td>\n",
       "      <td>Vulkà Bianco</td>\n",
       "      <td>87</td>\n",
       "      <td>36.781224</td>\n",
       "      <td>Sicily &amp; Sardinia</td>\n",
       "      <td>Etna</td>\n",
       "      <td>NaN</td>\n",
       "      <td>Nicosia</td>\n",
       "      <td>0.13</td>\n",
       "      <td>White Blend</td>\n",
       "    </tr>\n",
       "    <tr>\n",
       "      <th>1</th>\n",
       "      <td>Portugal</td>\n",
       "      <td>Quinta dos Avidagos 2011 Avidagos Red (Douro)</td>\n",
       "      <td>This is ripe and fruity, a wine that is smooth...</td>\n",
       "      <td>Avidagos</td>\n",
       "      <td>87</td>\n",
       "      <td>15.000000</td>\n",
       "      <td>Douro</td>\n",
       "      <td>NaN</td>\n",
       "      <td>NaN</td>\n",
       "      <td>Quinta dos Avidagos</td>\n",
       "      <td>0.22</td>\n",
       "      <td>Portuguese Red</td>\n",
       "    </tr>\n",
       "    <tr>\n",
       "      <th>2</th>\n",
       "      <td>US</td>\n",
       "      <td>Rainstorm 2013 Pinot Gris (Willamette Valley)</td>\n",
       "      <td>Tart and snappy, the flavors of lime flesh and...</td>\n",
       "      <td>NaN</td>\n",
       "      <td>87</td>\n",
       "      <td>14.000000</td>\n",
       "      <td>Oregon</td>\n",
       "      <td>Willamette Valley</td>\n",
       "      <td>Willamette Valley</td>\n",
       "      <td>Rainstorm</td>\n",
       "      <td>0.02</td>\n",
       "      <td>Pinot Gris</td>\n",
       "    </tr>\n",
       "    <tr>\n",
       "      <th>3</th>\n",
       "      <td>US</td>\n",
       "      <td>St. Julian 2013 Reserve Late Harvest Riesling ...</td>\n",
       "      <td>Pineapple rind, lemon pith and orange blossom ...</td>\n",
       "      <td>Reserve Late Harvest</td>\n",
       "      <td>87</td>\n",
       "      <td>13.000000</td>\n",
       "      <td>Michigan</td>\n",
       "      <td>Lake Michigan Shore</td>\n",
       "      <td>NaN</td>\n",
       "      <td>St. Julian</td>\n",
       "      <td>0.17</td>\n",
       "      <td>Riesling</td>\n",
       "    </tr>\n",
       "    <tr>\n",
       "      <th>4</th>\n",
       "      <td>US</td>\n",
       "      <td>Sweet Cheeks 2012 Vintner's Reserve Wild Child...</td>\n",
       "      <td>Much like the regular bottling from 2012, this...</td>\n",
       "      <td>Vintner's Reserve Wild Child Block</td>\n",
       "      <td>87</td>\n",
       "      <td>65.000000</td>\n",
       "      <td>Oregon</td>\n",
       "      <td>Willamette Valley</td>\n",
       "      <td>Willamette Valley</td>\n",
       "      <td>Sweet Cheeks</td>\n",
       "      <td>0.31</td>\n",
       "      <td>Pinot Noir</td>\n",
       "    </tr>\n",
       "  </tbody>\n",
       "</table>\n",
       "</div>"
      ],
      "text/plain": [
       "    country                                       review_title  \\\n",
       "0     Italy                  Nicosia 2013 Vulkà Bianco  (Etna)   \n",
       "1  Portugal      Quinta dos Avidagos 2011 Avidagos Red (Douro)   \n",
       "2        US      Rainstorm 2013 Pinot Gris (Willamette Valley)   \n",
       "3        US  St. Julian 2013 Reserve Late Harvest Riesling ...   \n",
       "4        US  Sweet Cheeks 2012 Vintner's Reserve Wild Child...   \n",
       "\n",
       "                                  review_description  \\\n",
       "0  Aromas include tropical fruit, broom, brimston...   \n",
       "1  This is ripe and fruity, a wine that is smooth...   \n",
       "2  Tart and snappy, the flavors of lime flesh and...   \n",
       "3  Pineapple rind, lemon pith and orange blossom ...   \n",
       "4  Much like the regular bottling from 2012, this...   \n",
       "\n",
       "                          designation  points      price           province  \\\n",
       "0                        Vulkà Bianco      87  36.781224  Sicily & Sardinia   \n",
       "1                            Avidagos      87  15.000000              Douro   \n",
       "2                                 NaN      87  14.000000             Oregon   \n",
       "3                Reserve Late Harvest      87  13.000000           Michigan   \n",
       "4  Vintner's Reserve Wild Child Block      87  65.000000             Oregon   \n",
       "\n",
       "              region_1           region_2               winery  \\\n",
       "0                 Etna                NaN              Nicosia   \n",
       "1                  NaN                NaN  Quinta dos Avidagos   \n",
       "2    Willamette Valley  Willamette Valley            Rainstorm   \n",
       "3  Lake Michigan Shore                NaN           St. Julian   \n",
       "4    Willamette Valley  Willamette Valley         Sweet Cheeks   \n",
       "\n",
       "   review_sentiment         variety  \n",
       "0              0.13     White Blend  \n",
       "1              0.22  Portuguese Red  \n",
       "2              0.02      Pinot Gris  \n",
       "3              0.17        Riesling  \n",
       "4              0.31      Pinot Noir  "
      ]
     },
     "execution_count": 36,
     "metadata": {},
     "output_type": "execute_result"
    }
   ],
   "source": [
    "df.head()"
   ]
  },
  {
   "cell_type": "code",
   "execution_count": 48,
   "id": "e5cefdcd",
   "metadata": {},
   "outputs": [],
   "source": [
    "df.drop(['review_title','region_1','region_2'],axis =1,inplace=True)"
   ]
  },
  {
   "cell_type": "code",
   "execution_count": 44,
   "id": "48af0323",
   "metadata": {},
   "outputs": [
    {
     "name": "stdout",
     "output_type": "stream",
     "text": [
      "14728\n",
      "41\n",
      "30310\n",
      "371\n"
     ]
    }
   ],
   "source": [
    "print(len(df['winery'].unique()))\n",
    "print(len(df['country'].unique()))\n",
    "print(len(df['designation'].unique()))\n",
    "print(len(df['province'].unique()))"
   ]
  },
  {
   "cell_type": "code",
   "execution_count": 51,
   "id": "06d2f82f",
   "metadata": {},
   "outputs": [],
   "source": [
    "# df.drop(['winery','designation','province'],axis =1,inplace=True)\n",
    "df.drop(['review_description'],axis =1,inplace=True)\n"
   ]
  },
  {
   "cell_type": "code",
   "execution_count": 52,
   "id": "e71b168d",
   "metadata": {},
   "outputs": [
    {
     "data": {
      "text/html": [
       "<div>\n",
       "<style scoped>\n",
       "    .dataframe tbody tr th:only-of-type {\n",
       "        vertical-align: middle;\n",
       "    }\n",
       "\n",
       "    .dataframe tbody tr th {\n",
       "        vertical-align: top;\n",
       "    }\n",
       "\n",
       "    .dataframe thead th {\n",
       "        text-align: right;\n",
       "    }\n",
       "</style>\n",
       "<table border=\"1\" class=\"dataframe\">\n",
       "  <thead>\n",
       "    <tr style=\"text-align: right;\">\n",
       "      <th></th>\n",
       "      <th>country</th>\n",
       "      <th>points</th>\n",
       "      <th>price</th>\n",
       "      <th>review_sentiment</th>\n",
       "      <th>variety</th>\n",
       "    </tr>\n",
       "  </thead>\n",
       "  <tbody>\n",
       "    <tr>\n",
       "      <th>0</th>\n",
       "      <td>Italy</td>\n",
       "      <td>87</td>\n",
       "      <td>36.781224</td>\n",
       "      <td>0.13</td>\n",
       "      <td>White Blend</td>\n",
       "    </tr>\n",
       "    <tr>\n",
       "      <th>1</th>\n",
       "      <td>Portugal</td>\n",
       "      <td>87</td>\n",
       "      <td>15.000000</td>\n",
       "      <td>0.22</td>\n",
       "      <td>Portuguese Red</td>\n",
       "    </tr>\n",
       "    <tr>\n",
       "      <th>2</th>\n",
       "      <td>US</td>\n",
       "      <td>87</td>\n",
       "      <td>14.000000</td>\n",
       "      <td>0.02</td>\n",
       "      <td>Pinot Gris</td>\n",
       "    </tr>\n",
       "    <tr>\n",
       "      <th>3</th>\n",
       "      <td>US</td>\n",
       "      <td>87</td>\n",
       "      <td>13.000000</td>\n",
       "      <td>0.17</td>\n",
       "      <td>Riesling</td>\n",
       "    </tr>\n",
       "    <tr>\n",
       "      <th>4</th>\n",
       "      <td>US</td>\n",
       "      <td>87</td>\n",
       "      <td>65.000000</td>\n",
       "      <td>0.31</td>\n",
       "      <td>Pinot Noir</td>\n",
       "    </tr>\n",
       "  </tbody>\n",
       "</table>\n",
       "</div>"
      ],
      "text/plain": [
       "    country  points      price  review_sentiment         variety\n",
       "0     Italy      87  36.781224              0.13     White Blend\n",
       "1  Portugal      87  15.000000              0.22  Portuguese Red\n",
       "2        US      87  14.000000              0.02      Pinot Gris\n",
       "3        US      87  13.000000              0.17        Riesling\n",
       "4        US      87  65.000000              0.31      Pinot Noir"
      ]
     },
     "execution_count": 52,
     "metadata": {},
     "output_type": "execute_result"
    }
   ],
   "source": [
    "df.head()"
   ]
  },
  {
   "cell_type": "code",
   "execution_count": 74,
   "id": "bea7964b",
   "metadata": {},
   "outputs": [
    {
     "name": "stdout",
     "output_type": "stream",
     "text": [
      "{'Armenia': 0, 'Slovakia': 1, 'India': 2, 'Switzerland': 3, 'Luxembourg': 4, 'Czech Republic': 5, 'Serbia': 6, 'Macedonia': 7, 'Cyprus': 8, 'Ukraine': 9, 'Peru': 10, 'Croatia': 11, 'Georgia': 12, 'Morocco': 13, 'Lebanon': 14, 'Brazil': 15, 'Turkey': 16, 'Uruguay': 17, 'Moldova': 18, 'Hungary': 19, 'Mexico': 20, 'Slovenia': 21, 'England': 22, 'Romania': 23, 'Bulgaria': 24, 'Greece': 25, 'Canada': 26, 'Israel': 27, 'South Africa': 28, 'Australia': 29, 'New Zealand': 30, 'Germany': 31, 'Austria': 32, 'Argentina': 33, 'Spain': 34, 'Chile': 35, 'Portugal': 36, 'Italy': 37, 'France': 38, 'US': 39}\n"
     ]
    }
   ],
   "source": [
    "top_varieties = df['country'].value_counts( ascending=True)\n",
    "maps = dict(top_varieties).items()\n",
    "maps = list(maps)\n",
    "maps.sort(key = lambda x:x[1])\n",
    "country_map = {}\n",
    "for i in range(len(maps)):\n",
    "    country_map[maps[i][0]] = i\n",
    "print(country_map)\n",
    "    "
   ]
  },
  {
   "cell_type": "code",
   "execution_count": 80,
   "id": "6e6e62ab",
   "metadata": {},
   "outputs": [],
   "source": [
    "df.replace({'country':country_map},inplace=True)"
   ]
  },
  {
   "cell_type": "code",
   "execution_count": 81,
   "id": "54ec327a",
   "metadata": {},
   "outputs": [
    {
     "data": {
      "text/html": [
       "<div>\n",
       "<style scoped>\n",
       "    .dataframe tbody tr th:only-of-type {\n",
       "        vertical-align: middle;\n",
       "    }\n",
       "\n",
       "    .dataframe tbody tr th {\n",
       "        vertical-align: top;\n",
       "    }\n",
       "\n",
       "    .dataframe thead th {\n",
       "        text-align: right;\n",
       "    }\n",
       "</style>\n",
       "<table border=\"1\" class=\"dataframe\">\n",
       "  <thead>\n",
       "    <tr style=\"text-align: right;\">\n",
       "      <th></th>\n",
       "      <th>country</th>\n",
       "      <th>points</th>\n",
       "      <th>price</th>\n",
       "      <th>review_sentiment</th>\n",
       "      <th>variety</th>\n",
       "    </tr>\n",
       "  </thead>\n",
       "  <tbody>\n",
       "    <tr>\n",
       "      <th>0</th>\n",
       "      <td>37.0</td>\n",
       "      <td>87</td>\n",
       "      <td>36.781224</td>\n",
       "      <td>0.13</td>\n",
       "      <td>White Blend</td>\n",
       "    </tr>\n",
       "    <tr>\n",
       "      <th>1</th>\n",
       "      <td>36.0</td>\n",
       "      <td>87</td>\n",
       "      <td>15.000000</td>\n",
       "      <td>0.22</td>\n",
       "      <td>Portuguese Red</td>\n",
       "    </tr>\n",
       "    <tr>\n",
       "      <th>2</th>\n",
       "      <td>39.0</td>\n",
       "      <td>87</td>\n",
       "      <td>14.000000</td>\n",
       "      <td>0.02</td>\n",
       "      <td>Pinot Gris</td>\n",
       "    </tr>\n",
       "    <tr>\n",
       "      <th>3</th>\n",
       "      <td>39.0</td>\n",
       "      <td>87</td>\n",
       "      <td>13.000000</td>\n",
       "      <td>0.17</td>\n",
       "      <td>Riesling</td>\n",
       "    </tr>\n",
       "    <tr>\n",
       "      <th>4</th>\n",
       "      <td>39.0</td>\n",
       "      <td>87</td>\n",
       "      <td>65.000000</td>\n",
       "      <td>0.31</td>\n",
       "      <td>Pinot Noir</td>\n",
       "    </tr>\n",
       "  </tbody>\n",
       "</table>\n",
       "</div>"
      ],
      "text/plain": [
       "   country  points      price  review_sentiment         variety\n",
       "0     37.0      87  36.781224              0.13     White Blend\n",
       "1     36.0      87  15.000000              0.22  Portuguese Red\n",
       "2     39.0      87  14.000000              0.02      Pinot Gris\n",
       "3     39.0      87  13.000000              0.17        Riesling\n",
       "4     39.0      87  65.000000              0.31      Pinot Noir"
      ]
     },
     "execution_count": 81,
     "metadata": {},
     "output_type": "execute_result"
    }
   ],
   "source": [
    "df.head()"
   ]
  },
  {
   "cell_type": "code",
   "execution_count": 83,
   "id": "81f1e6d7",
   "metadata": {},
   "outputs": [],
   "source": [
    "df.to_csv('Pre_Processed.csv')"
   ]
  },
  {
   "cell_type": "code",
   "execution_count": 86,
   "id": "9c4f11ab",
   "metadata": {},
   "outputs": [
    {
     "data": {
      "text/plain": [
       "598"
      ]
     },
     "execution_count": 86,
     "metadata": {},
     "output_type": "execute_result"
    }
   ],
   "source": [
    "filename = 'county_map.txt'\n",
    "filehandler = open(filename, 'wt')\n",
    "data = str(country_map)\n",
    "filehandler.write(data)"
   ]
  },
  {
   "cell_type": "code",
   "execution_count": 87,
   "id": "bed6f4f7",
   "metadata": {},
   "outputs": [
    {
     "name": "stdout",
     "output_type": "stream",
     "text": [
      "{'Armenia': 0, 'Slovakia': 1, 'India': 2, 'Switzerland': 3, 'Luxembourg': 4, 'Czech Republic': 5, 'Serbia': 6, 'Macedonia': 7, 'Cyprus': 8, 'Ukraine': 9, 'Peru': 10, 'Croatia': 11, 'Georgia': 12, 'Morocco': 13, 'Lebanon': 14, 'Brazil': 15, 'Turkey': 16, 'Uruguay': 17, 'Moldova': 18, 'Hungary': 19, 'Mexico': 20, 'Slovenia': 21, 'England': 22, 'Romania': 23, 'Bulgaria': 24, 'Greece': 25, 'Canada': 26, 'Israel': 27, 'South Africa': 28, 'Australia': 29, 'New Zealand': 30, 'Germany': 31, 'Austria': 32, 'Argentina': 33, 'Spain': 34, 'Chile': 35, 'Portugal': 36, 'Italy': 37, 'France': 38, 'US': 39}\n"
     ]
    }
   ],
   "source": [
    "print(data)"
   ]
  },
  {
   "cell_type": "code",
   "execution_count": 94,
   "id": "f8cea8f5",
   "metadata": {},
   "outputs": [
    {
     "ename": "TypeError",
     "evalue": "'str' object cannot be interpreted as an integer",
     "output_type": "error",
     "traceback": [
      "\u001b[1;31m---------------------------------------------------------------------------\u001b[0m",
      "\u001b[1;31mTypeError\u001b[0m                                 Traceback (most recent call last)",
      "\u001b[1;32m~\\AppData\\Local\\Temp/ipykernel_10584/3444261606.py\u001b[0m in \u001b[0;36m<module>\u001b[1;34m\u001b[0m\n\u001b[0;32m      2\u001b[0m \u001b[0mfile\u001b[0m \u001b[1;33m=\u001b[0m \u001b[0mopen\u001b[0m\u001b[1;33m(\u001b[0m\u001b[0mfilename\u001b[0m\u001b[1;33m,\u001b[0m \u001b[1;34m'wb'\u001b[0m\u001b[1;33m)\u001b[0m \u001b[1;31m#, encoding='utf-8')\u001b[0m\u001b[1;33m\u001b[0m\u001b[1;33m\u001b[0m\u001b[0m\n\u001b[0;32m      3\u001b[0m \u001b[1;31m# pickle.dump(country_map, file)\u001b[0m\u001b[1;33m\u001b[0m\u001b[1;33m\u001b[0m\u001b[0m\n\u001b[1;32m----> 4\u001b[1;33m \u001b[0mfile\u001b[0m\u001b[1;33m.\u001b[0m\u001b[0mwrite\u001b[0m\u001b[1;33m(\u001b[0m\u001b[0mbytes\u001b[0m\u001b[1;33m(\u001b[0m\u001b[0mcountry_map\u001b[0m\u001b[1;33m)\u001b[0m\u001b[1;33m)\u001b[0m\u001b[1;33m\u001b[0m\u001b[1;33m\u001b[0m\u001b[0m\n\u001b[0m\u001b[0;32m      5\u001b[0m \u001b[0mfile\u001b[0m\u001b[1;33m.\u001b[0m\u001b[0mclose\u001b[0m\u001b[1;33m(\u001b[0m\u001b[1;33m)\u001b[0m\u001b[1;33m\u001b[0m\u001b[1;33m\u001b[0m\u001b[0m\n",
      "\u001b[1;31mTypeError\u001b[0m: 'str' object cannot be interpreted as an integer"
     ]
    }
   ],
   "source": [
    "# import pickle\n",
    "file = open(filename, 'wb') #, encoding='utf-8')\n",
    "# pickle.dump(country_map, file)\n",
    "file.write(country_map)\n",
    "file.close()"
   ]
  },
  {
   "cell_type": "code",
   "execution_count": 96,
   "id": "6bc555f9",
   "metadata": {},
   "outputs": [
    {
     "data": {
      "text/html": [
       "<div>\n",
       "<style scoped>\n",
       "    .dataframe tbody tr th:only-of-type {\n",
       "        vertical-align: middle;\n",
       "    }\n",
       "\n",
       "    .dataframe tbody tr th {\n",
       "        vertical-align: top;\n",
       "    }\n",
       "\n",
       "    .dataframe thead th {\n",
       "        text-align: right;\n",
       "    }\n",
       "</style>\n",
       "<table border=\"1\" class=\"dataframe\">\n",
       "  <thead>\n",
       "    <tr style=\"text-align: right;\">\n",
       "      <th></th>\n",
       "      <th>country</th>\n",
       "      <th>points</th>\n",
       "      <th>price</th>\n",
       "      <th>review_sentiment</th>\n",
       "      <th>variety</th>\n",
       "    </tr>\n",
       "  </thead>\n",
       "  <tbody>\n",
       "    <tr>\n",
       "      <th>0</th>\n",
       "      <td>37.0</td>\n",
       "      <td>87</td>\n",
       "      <td>36.781224</td>\n",
       "      <td>0.13</td>\n",
       "      <td>White Blend</td>\n",
       "    </tr>\n",
       "    <tr>\n",
       "      <th>1</th>\n",
       "      <td>36.0</td>\n",
       "      <td>87</td>\n",
       "      <td>15.000000</td>\n",
       "      <td>0.22</td>\n",
       "      <td>Portuguese Red</td>\n",
       "    </tr>\n",
       "    <tr>\n",
       "      <th>2</th>\n",
       "      <td>39.0</td>\n",
       "      <td>87</td>\n",
       "      <td>14.000000</td>\n",
       "      <td>0.02</td>\n",
       "      <td>Pinot Gris</td>\n",
       "    </tr>\n",
       "    <tr>\n",
       "      <th>3</th>\n",
       "      <td>39.0</td>\n",
       "      <td>87</td>\n",
       "      <td>13.000000</td>\n",
       "      <td>0.17</td>\n",
       "      <td>Riesling</td>\n",
       "    </tr>\n",
       "    <tr>\n",
       "      <th>4</th>\n",
       "      <td>39.0</td>\n",
       "      <td>87</td>\n",
       "      <td>65.000000</td>\n",
       "      <td>0.31</td>\n",
       "      <td>Pinot Noir</td>\n",
       "    </tr>\n",
       "  </tbody>\n",
       "</table>\n",
       "</div>"
      ],
      "text/plain": [
       "   country  points      price  review_sentiment         variety\n",
       "0     37.0      87  36.781224              0.13     White Blend\n",
       "1     36.0      87  15.000000              0.22  Portuguese Red\n",
       "2     39.0      87  14.000000              0.02      Pinot Gris\n",
       "3     39.0      87  13.000000              0.17        Riesling\n",
       "4     39.0      87  65.000000              0.31      Pinot Noir"
      ]
     },
     "execution_count": 96,
     "metadata": {},
     "output_type": "execute_result"
    }
   ],
   "source": [
    "df.head()\n"
   ]
  },
  {
   "cell_type": "code",
   "execution_count": 97,
   "id": "04849f4e",
   "metadata": {},
   "outputs": [
    {
     "data": {
      "text/html": [
       "<div>\n",
       "<style scoped>\n",
       "    .dataframe tbody tr th:only-of-type {\n",
       "        vertical-align: middle;\n",
       "    }\n",
       "\n",
       "    .dataframe tbody tr th {\n",
       "        vertical-align: top;\n",
       "    }\n",
       "\n",
       "    .dataframe thead th {\n",
       "        text-align: right;\n",
       "    }\n",
       "</style>\n",
       "<table border=\"1\" class=\"dataframe\">\n",
       "  <thead>\n",
       "    <tr style=\"text-align: right;\">\n",
       "      <th></th>\n",
       "      <th>country</th>\n",
       "      <th>points</th>\n",
       "      <th>price</th>\n",
       "      <th>review_sentiment</th>\n",
       "    </tr>\n",
       "  </thead>\n",
       "  <tbody>\n",
       "    <tr>\n",
       "      <th>0</th>\n",
       "      <td>37.0</td>\n",
       "      <td>87</td>\n",
       "      <td>36.781224</td>\n",
       "      <td>0.13</td>\n",
       "    </tr>\n",
       "  </tbody>\n",
       "</table>\n",
       "</div>"
      ],
      "text/plain": [
       "   country  points      price  review_sentiment\n",
       "0     37.0      87  36.781224              0.13"
      ]
     },
     "execution_count": 97,
     "metadata": {},
     "output_type": "execute_result"
    }
   ],
   "source": []
  },
  {
   "cell_type": "code",
   "execution_count": null,
   "id": "7282e2ac",
   "metadata": {},
   "outputs": [],
   "source": []
  }
 ],
 "metadata": {
  "kernelspec": {
   "display_name": "Python 3 (ipykernel)",
   "language": "python",
   "name": "python3"
  },
  "language_info": {
   "codemirror_mode": {
    "name": "ipython",
    "version": 3
   },
   "file_extension": ".py",
   "mimetype": "text/x-python",
   "name": "python",
   "nbconvert_exporter": "python",
   "pygments_lexer": "ipython3",
   "version": "3.9.7"
  }
 },
 "nbformat": 4,
 "nbformat_minor": 5
}
